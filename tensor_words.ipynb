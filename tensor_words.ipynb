{
 "metadata": {
  "name": "",
  "signature": "sha256:84ad71b4d5ee8f7208fe4ec8e2891dc1680a76c5369fbcfcc88d9a575c9245e8"
 },
 "nbformat": 3,
 "nbformat_minor": 0,
 "worksheets": [
  {
   "cells": [
    {
     "cell_type": "markdown",
     "metadata": {},
     "source": [
      "# Tensor SimRank\n",
      "\n",
      "## Definition\n",
      "$$\n",
      "s(a, b) = \\frac 1 \\alpha \\sum_{v \\in N(a), w \\in N(b)} s(w, v) = \\sum_{w, \\tilde w \\in V} s(w, \\tilde w) e(a, w) e(b, \\tilde w) = \\sum_{w, \\tilde w \\in V} s(w, \\tilde w) L ( e(a, w) , e(b, \\tilde w) ) = \\sum_{w, \\tilde w \\in V} s(w, \\tilde w) (\\textbf e(a, w) \\cdot \\textbf e(b, \\tilde w))\n",
      "$$\n",
      "Formula for matrix simrank iterative method:\n",
      "$$\n",
      "S_0 = I \\\\\n",
      "\\tilde S_{k+1} = W^T S_{k} W - diag(W^T S_{k} W) + I\n",
      "$$\n",
      "\n",
      "Where $W$ stands for normalized adjacency matrix. We propose using $\\textbf W$ - anjustancy tensor that takes additional paramets of edge (relative position in case of word-adjacency matrix model like in distributive semantics) - a vector of parametrs.\n",
      "\n",
      "$\\textbf W$ of size (I, J, K) might be represented as follows:\n",
      "$$\\begin{bmatrix}\n",
      "(w_{111}, w_{112}, \\dots w_{11K}) & (w_{121}, w_{122}, \\dots w_{12K}) & \\dots & (w_{1J1}, w_{1J2}, \\dots w_{1JK})\\\\ \n",
      "(w_{211}, w_{212}, \\dots w_{21K}) & (w_{221}, w_{222}, \\dots w_{22K}) & \\dots & (w_{2J1}, w_{2J2}, \\dots w_{2JK})\\\\ \n",
      "\\dots\n",
      "(w_{N11}, w_{N12}, \\dots w_{N1K}) & (w_{N21}, w_{N22}, \\dots w_{N2K}) & \\dots & (w_{NJ1}, w_{NJ2}, \\dots w_{NJK})\\\\ \n",
      "\\end{bmatrix}$$\n",
      "\n",
      "That in case of I, J, K = 3, 3, 2 looks like\n",
      "\n",
      "$$\n",
      "\\begin{bmatrix}\n",
      "(w_{111}, w_{112}) & (w_{121}, w_{122}) & (w_{131}, w_{132})\\\\ \n",
      "(w_{211}, w_{212}) & (w_{221}, w_{222}) & (w_{231}, w_{232})\\\\ \n",
      "(w_{311}, w_{312}) & (w_{321}, w_{322}) & (w_{331}, w_{332})\\\\ \n",
      "\\end{bmatrix}\n",
      "=\n",
      "\\begin{bmatrix}\n",
      "\\textbf w_{11} & \\textbf w_{12} & \\textbf w_{13}\\\\ \n",
      "\\textbf w_{21} & \\textbf w_{22} & \\textbf w_{23}\\\\\n",
      "\\textbf w_{31} & \\textbf w_{32} & \\textbf w_{33}\\\\\n",
      "\\end{bmatrix}\n",
      ", \\textbf w_{ij} \\in R^K$$\n",
      "\n",
      "In we want eq 1 to work fine with our tensors, we must propose two operation:\n",
      "\n",
      "- $\\odot_1: \\textbf W \\in R^{IJK} \\times \\textbf T \\in  R^{JLK} \\to M \\in R^{IL}$\n",
      "- $\\odot_2: \\textbf T \\in R^{IJK} \\times A \\in R^{JL} \\to \\textbf W \\in R^{ILK}$"
     ]
    },
    {
     "cell_type": "markdown",
     "metadata": {},
     "source": [
      "$$ \\textbf W \\odot_1 \\textbf T =\n",
      "\\begin{bmatrix}\n",
      "\\textbf w_{11} & \\textbf w_{12} & \\textbf w_{13}\\\\ \n",
      "\\textbf w_{21} & \\textbf w_{22} & \\textbf w_{23}\\\\\n",
      "\\textbf w_{31} & \\textbf w_{32} & \\textbf w_{33}\\\\\n",
      "\\end{bmatrix}\n",
      "\\odot_1\n",
      "\\begin{bmatrix}\n",
      "\\textbf t_{11} & \\textbf t_{12} & \\textbf t_{13}\\\\ \n",
      "\\textbf t_{21} & \\textbf t_{22} & \\textbf t_{23}\\\\\n",
      "\\textbf t_{31} & \\textbf t_{32} & \\textbf t_{33}\\\\\n",
      "\\end{bmatrix}\n",
      "$$\n",
      "$$\n",
      "\\begin{bmatrix}\n",
      " \\textbf w_{11} \\cdot \\textbf t_{11}  + \\textbf w_{12} \\cdot\\textbf t_{21} + \\textbf w_{13} \\cdot\\textbf t_{31} & \\textbf w_{11} \\cdot\\textbf t_{12}  + \\textbf w_{12} \\cdot\\textbf t_{22} + \\textbf w_{13} \\cdot\\textbf t_{32} \\\\\n",
      "\\dots \n",
      "\\end{bmatrix} = \\begin{bmatrix} \\sum_k  \\textbf w_{ik} \\cdot \\textbf t_{kj}  \\end{bmatrix}_{ij} \\in R^{IL}\n",
      "$$\n",
      "$$\n",
      "Note: we assume that W and T are already properly normalized"
     ]
    },
    {
     "cell_type": "markdown",
     "metadata": {},
     "source": [
      "\n",
      "$$\\textbf T \\odot_2 A = \n",
      "\\begin{bmatrix}\n",
      "\\textbf t_{11} & \\textbf t_{12} & \\textbf t_{13}\\\\ \n",
      "\\textbf t_{21} & \\textbf t_{22} & \\textbf t_{23}\\\\\n",
      "\\textbf t_{31} & \\textbf t_{32} & \\textbf t_{33}\\\\\n",
      "\\end{bmatrix}\n",
      "\\odot_2\n",
      "\\begin{bmatrix}\n",
      " \\alpha_{11} &  \\alpha_{12} &  \\alpha_{13}\\\\ \n",
      " \\alpha_{21} &  \\alpha_{22} &  \\alpha_{23}\\\\\n",
      " \\alpha_{31} &  \\alpha_{32} &  \\alpha_{33}\\\\\n",
      "\\end{bmatrix} = \\begin{bmatrix} \\sum_k  \\textbf t_{ik} \\alpha_{kj}  \\end{bmatrix}_{ij} \\in R^{ILK} $$ "
     ]
    },
    {
     "cell_type": "markdown",
     "metadata": {},
     "source": [
      "Then eq 1 turns into:\n",
      "$$\\tilde S_{k+1} = \\textbf W^T \\odot_2 S_{k} \\odot_1 \\textbf W - diag(\\textbf W^T \\odot_2 S_{k} \\odot_1 \\textbf W) + I$$"
     ]
    },
    {
     "cell_type": "markdown",
     "metadata": {},
     "source": [
      "## How to compute\n",
      "\n",
      "That could be easilty seen from direct taking, that:\n",
      "$$ \\textbf W \\odot_1 \\textbf T = W_{(1)} \\cdot (T_{(2)})^T$$, where  $W_{(i)}$ is the i-th mode matrixitaion of $\\textbf W$. The same way, \n",
      "$$ \\textbf W \\odot_2 A = W_{(3)} \\cdot I_I \\otimes A $$, where I is 0-mode size of our data \n",
      "but that is reeeealy not computationaly efficient becuase even sparce knonker product of $I_{1000} \\otimes A$ cant fit into memory. What more efficient is to use the following trick (works well if K << I, J):"
     ]
    },
    {
     "cell_type": "code",
     "collapsed": false,
     "input": [
      "rls = [l.dot(M) for l in self.tolayers()]\n",
      "I, J = rls[0].shape\n",
      "K = len(rls)\n",
      "np.hstack([x.reshape((I*J, 1)) for x in rls]).reshape(I, J, K)"
     ],
     "language": "python",
     "metadata": {},
     "outputs": []
    },
    {
     "cell_type": "markdown",
     "metadata": {},
     "source": [
      "that actually computes regular dot product for each \"layer\" of matrix with M and then builts Tensor back from those layers. That takes into accout the fact that $\\odot_2$ is actually performs ordinary dot production for each layer.\n",
      "\n",
      "Because $\\odot_2$ on sparce tensor and dence matrix usually prodices dense tensor, that is way more efficeint to compute it like this: $\\textbf W^T \\odot_2 S_{k} \\odot_1 \\textbf W = (\\textbf W^T \\odot_1 (\\textbf W^T \\odot_2 S_{k})^T)^T$.\n",
      "\n",
      "$\\textbf W^T \\odot_2 S_{k}$  - dense, but sparce x dense is faster then dense x sparce (due to python dot implementation)."
     ]
    },
    {
     "cell_type": "markdown",
     "metadata": {},
     "source": [
      "## What do I mean by transponation\n",
      "\n",
      "Actually, I don't know still, but it seams reasonaly to just transpose \"cells\" and to not transpose \"vectors\" because we want normed matrix W to have ones on diagonals. To have same effect on tensors we shouldn't inverce tubes\\vectors\\2-mode, so\n",
      "$$\n",
      "\\begin{bmatrix}\n",
      "\\textbf w_{11} & \\textbf w_{12} & \\textbf w_{13}\\\\ \n",
      "\\textbf w_{21} & \\textbf w_{22} & \\textbf w_{23}\\\\\n",
      "\\textbf w_{31} & \\textbf w_{32} & \\textbf w_{33}\\\\\n",
      "\\end{bmatrix}^T = \\begin{bmatrix}\n",
      "\\textbf w_{11} & \\textbf w_{21} & \\textbf w_{31}\\\\ \n",
      "\\textbf w_{12} & \\textbf w_{22} & \\textbf w_{32}\\\\\n",
      "\\textbf w_{13} & \\textbf w_{23} & \\textbf w_{33}\\\\\n",
      "\\end{bmatrix}\n",
      "$$"
     ]
    },
    {
     "cell_type": "markdown",
     "metadata": {},
     "source": [
      "# Implementation"
     ]
    },
    {
     "cell_type": "code",
     "collapsed": false,
     "input": [
      "from datetime import datetime\n",
      "import time\n",
      "\n",
      "import numpy as np\n",
      "from scipy.sparse import csc_matrix, coo_matrix\n",
      "import scipy as sp\n",
      "\n",
      "import matplotlib.pyplot as plt\n",
      "%matplotlib inline"
     ],
     "language": "python",
     "metadata": {},
     "outputs": [],
     "prompt_number": 1
    },
    {
     "cell_type": "markdown",
     "metadata": {},
     "source": [
      "### Naive multiplication implementation"
     ]
    },
    {
     "cell_type": "code",
     "collapsed": false,
     "input": [
      "\n",
      "I = 4\n",
      "J = 3\n",
      "L = 2\n",
      "A = np.arange(I*J*L).reshape(I, J, L)\n",
      "\n",
      "M = 5\n",
      "D = np.arange(1, 1 + J*M).reshape(J, M)\n",
      "\n",
      "def layer_print(T):\n",
      "    for i in range(T.shape[2]):\n",
      "        print T[:, :, i]\n",
      "\n",
      "def dense_convolution(A, B):\n",
      "    return naive_unfold1(A).dot(naive_unfold2(B).T)\n",
      "    \n",
      "def dense_tensmatr(A, D):\n",
      "    I, J, K = A.shape\n",
      "    M = D.shape[1]\n",
      "    return A.transpose(2, 0, 1).reshape(K, I*J).dot( np.kron(np.eye(A.shape[0]), D) ).T.reshape(I, M, K)\n",
      "\n",
      "def naive_unfold1(A):\n",
      "    return A.reshape(A.shape[0], A.shape[2]*A.shape[1])\n",
      "\n",
      "def naive_unfold2(A):\n",
      "    I, J, K = A.shape\n",
      "    return A.transpose(0, 2, 1).reshape(I*K, J).T\n",
      "\n",
      "\n",
      "# print A\n",
      "# print D\n",
      "\n",
      "# print naive_unfold1(A)\n",
      "# print naive_unfold2(A)\n",
      "\n",
      "# print dense_convolution(A, A.transpose(1, 0, 2))\n",
      "# print dense_tensmatr(A, D)"
     ],
     "language": "python",
     "metadata": {},
     "outputs": [],
     "prompt_number": 2
    },
    {
     "cell_type": "markdown",
     "metadata": {},
     "source": [
      "### Sparce densor implemenation"
     ]
    },
    {
     "cell_type": "code",
     "collapsed": false,
     "input": [
      "class sp3tensor:\n",
      "    \"\"\" Sparce tensor that stores data in sparce array format:\n",
      "        data - values\n",
      "        indexes - i-th of non-zero data\n",
      "        , e.g. [0 0 0 0 1 0 0 2] -> val: [1 2], ind: [4, 7].\n",
      "        \n",
      "        Size: I, J, K\n",
      "        Number of elements: N\n",
      "        \n",
      "        Complexisites:\n",
      "         get - O(N) (must be log N) - need to replace lsits with heaps\n",
      "         set - O(N) (must be log N)\n",
      "         tofold_* - O(N)\n",
      "         \"\"\"\n",
      "    \n",
      "    def __init__(self, values, indexes, shape):\n",
      "        if len(shape) != 3:\n",
      "            raise NotImplementedError, \"Only 3-dim tensors are supported\"\n",
      "            \n",
      "        if len(values) != len(indexes):\n",
      "            raise ValueError, \"Values and Indexes must be of same size\"\n",
      "        \n",
      "        self.shape = shape\n",
      "        self.__values = values\n",
      "        self.__indexes = indexes\n",
      "        \n",
      "    def index_from3d(self, i, j, k):\n",
      "        return i*self.shape[1]*self.shape[2] + j*self.shape[2] + k\n",
      "        \n",
      "    def __setitem__(self, key, item):\n",
      "        self.__check_bounds(key)\n",
      "            \n",
      "        try:\n",
      "            ind = self.index_from3d(*key)\n",
      "            internal_ind = self.__indexes.index(ind) # must be replaced with log n data structure !\n",
      "            self.__values[internal_ind] = item\n",
      "        except ValueError:\n",
      "            self.__indexes.append(ind)\n",
      "            self.__values.append(item)\n",
      "            \n",
      "    def __getitem__(self, key):\n",
      "        self.__check_bounds(key)\n",
      "        try:\n",
      "            ind = self.index_from3d(*key)\n",
      "            internal_ind = self.__indexes.index(ind)  # must be replaced with log n data structure !\n",
      "            return self.__values[internal_ind]\n",
      "        except ValueError:\n",
      "            return 0\n",
      "    \n",
      "    def tolayers(self):\n",
      "        \"\"\" Returns list of flat k-mode layers\"\"\"\n",
      "        ls = []\n",
      "        i = np.array(self.__indexes)\n",
      "        v = np.array(self.__values)\n",
      "        belogs_to = i % self.shape[2]\n",
      "        for k in range(self.shape[2]):\n",
      "            loc_i = i[belogs_to == k]\n",
      "            loc_v = v[belogs_to == k]\n",
      "            loc_map = (loc_i-k)/self.shape[2]\n",
      "            row = loc_map / self.shape[1]\n",
      "            col = loc_map - row*self.shape[1]\n",
      "            ls.append(coo_matrix((loc_v, (row, col)), shape=(self.shape[:2])))\n",
      "        return ls\n",
      "        \n",
      "    @property\n",
      "    def nnz(self):\n",
      "        return len(self.__values)\n",
      "    \n",
      "    @property\n",
      "    def T(self):\n",
      "        i = np.array(self.__indexes)\n",
      "        # fold-3 representatinon\n",
      "        col = i/self.shape[2]\n",
      "        row = np.mod(i, self.shape[2])\n",
      "        t_row = row # rows - the tubes themselves stays same (transponated)\n",
      "        t_col = np.mod(col, self.shape[1])*self.shape[0] + col/self.shape[1]\n",
      "        new_i = self.shape[2]*t_col + t_row\n",
      "        return sp3tensor(self.__values, new_i, shape = (self.shape[1], self.shape[0], self.shape[2]))\n",
      "        \n",
      "    @property\n",
      "    def data(self):\n",
      "        return self.__values\n",
      "    \n",
      "    def __check_bounds(self, key):\n",
      "        if len(key) != len(self.shape):\n",
      "            raise IndexError, \"Key is %s and shape of array is %s - on match\" % (key, self.shape) \n",
      "        else:\n",
      "            for k, s in zip(key, self.shape):\n",
      "                if k >= s or k < 0:\n",
      "                    raise IndexError, \"Key %s is out of bounds %s\" % (key, self.shape)\n",
      "                    \n",
      "                    \n",
      "    def tofold_1(self):\n",
      "        i = np.array(self.__indexes)\n",
      "        rows = i / ( self.shape[1] * self.shape[2] )\n",
      "        cols = i - rows*self.shape[1] * self.shape[2]\n",
      "        return coo_matrix((self.__values, (rows, cols)), shape=(self.shape[0], self.shape[1]*self.shape[2])).tocsc()\n",
      "    \n",
      "    def tofold_2(self):\n",
      "        i = np.array(self.__indexes)\n",
      "        I, J, K = self.shape\n",
      "        block_id = i / (K*J) # vettical blicks of width K\n",
      "        inner_i = i - block_id*K*J\n",
      "        inner_row = inner_i/K\n",
      "        inner_col = np.mod(inner_i, K)\n",
      "        row = inner_row\n",
      "        col = block_id*K + inner_col\n",
      "        return coo_matrix((self.__values, (row, col)), shape=(J, I*K)).tocsc()\n",
      "    \n",
      "#     def tofold_3(self):\n",
      "#         i = np.array(self.__indexes)\n",
      "#         rows = np.mod(i, self.shape[2])\n",
      "#         cols = i / self.shape[2]\n",
      "#         return coo_matrix((self.__values, (rows, cols)), shape=(self.shape[2], self.shape[0]*self.shape[1])).tocsc()\n",
      "    \n",
      "    def tenmat(self, M):\n",
      "        raise DeprecationWarning, 'Slow version! Don\\' use it!'\n",
      "        if self.shape[1] != M.shape[0]:\n",
      "            raise ValueError, \"Cant tenmat of sizes: %s, %s\" % (self.shape, M.shape)\n",
      "        c = self.tofold_3().dot( sp.sparse.kron(sp.sparse.eye(self.shape[0]), M) ).tocoo()\n",
      "        i = c.row + c.shape[0]*c.col\n",
      "        v = c.data\n",
      "        return sp3tensor(v, i, (self.shape[0], M.shape[1], self.shape[2]))\n",
      "    \n",
      "    def tenmat2(self, M):\n",
      "        raise DeprecationWarning, 'Slow version! Don\\' use it!'\n",
      "        \"\"\" Should work faster for smaller K\"\"\"\n",
      "        if self.shape[1] != M.shape[0]:\n",
      "            raise ValueError, \"Cant tenmat of sizes: %s, %s\" % (self.shape, M.shape)\n",
      "        ls = self.tolayers()\n",
      "        return sp3tensor.fromlayers([l.dot(M) for l in ls])\n",
      "    \n",
      "    def tenmat3(self, M, sparce = False):\n",
      "        \"\"\" Should work faster for smaller K - with hstack\"\"\"\n",
      "        if len(M.shape) != 2:\n",
      "            raise ValueError, \"You tenmat only by matrix!\" \n",
      "        \n",
      "        if self.shape[1] != M.shape[0]:\n",
      "            raise ValueError, \"Cant tenmat of sizes: %s, %s\" % (self.shape, M.shape)\n",
      "        rls = [l.dot(M) for l in self.tolayers()]\n",
      "        I, J = rls[0].shape\n",
      "        K = len(rls)\n",
      "        dense = np.hstack([x.reshape((I*J, 1)) for x in rls]).reshape(I, J, K)\n",
      "        if sparce:\n",
      "            return sp3tensor.fromtensor( dense )\n",
      "        else:\n",
      "            return dense\n",
      "        \n",
      "    def tenten(self, T):\n",
      "        if self.shape[1] != T.shape[0] or self.shape[2] != T.shape[2]:\n",
      "            raise ValueError, \"Cant tenten of sizes: %s, %s\" % (self.shape, T.shape)\n",
      "        \n",
      "        if T.__class__ == sp3tensor:\n",
      "            return self.tofold_1().dot( T.tofold_2().transpose() )\n",
      "        if T.__class__ == np.ndarray:\n",
      "            return self.tofold_1().dot( naive_unfold2(T).T )\n",
      "            \n",
      "    @classmethod\n",
      "    def zeros(cls, shape):\n",
      "        self = cls([], [], shape)\n",
      "        return self\n",
      "    \n",
      "    @classmethod\n",
      "    def fromtensor(cls, T):\n",
      "        if len(T.shape) != 3:\n",
      "            raise NotImplementedError, \"Only 3-dim tensors are supported\"\n",
      "            \n",
      "        v = T.reshape(np.prod(T.shape))\n",
      "        i = np.arange(v.size)\n",
      "        \n",
      "        to_del = i[v == 0]\n",
      "        i = np.delete(i, to_del)\n",
      "        v = np.delete(v, to_del)\n",
      "        self = cls(v.tolist(), i.tolist(), T.shape)\n",
      "        return self\n",
      "    \n",
      "    @classmethod\n",
      "    def fromlayers(cls, ls):\n",
      "        if len(ls) == 0:\n",
      "            raise ValueError, \"Layers list must be non-empty\"\n",
      "            \n",
      "\n",
      "        if type(ls[0]) == coo_matrix:\n",
      "            new = cls.zeros((ls[0].shape[0], ls[0].shape[1], len(ls)))\n",
      "            vals = []\n",
      "            ids = []\n",
      "            for k, l in enumerate(ls):\n",
      "                vals.extend(l.data)\n",
      "                ids.extend(new.index_from3d(l.row, l.col, np.ones(len(l.row), dtype = int)*k))\n",
      "            return cls(vals, ids, (ls[0].shape[0], ls[0].shape[1], len(ls)))\n",
      "        \n",
      "#         if type(ls[0]) == np.ndarray:\n",
      "#             new = cls.zeros((ls[0].shape[0], ls[0].shape[1], len(ls)))\n",
      "#             vals = []\n",
      "#             ids = []\n",
      "#             ar = np.arange(np.prod(ls[0].shape))\n",
      "#             for k, l in enumerate(ls):\n",
      "#                 vals.extend(l.reshape(np.prod(l.shape)))\n",
      "#                 rows = ar/l.shape[1]\n",
      "#                 cols = np.mod(ar, l.shape[1])\n",
      "#                 ids.extend(new.index_from3d(rows, cols, np.ones(len(rows), dtype = int)*k))\n",
      "#             return cls(vals, ids, (ls[0].shape[0], ls[0].shape[1], len(ls)))\n",
      "        I, J = ls[0].shape\n",
      "        K = len(ls)\n",
      "        dense = np.hstack([x.reshape((I*J, 1)) for x in ls])\n",
      "        dense = np.asarray(dense).reshape(I, J, K)\n",
      "        return cls.fromtensor(dense)\n",
      "        \n",
      "    def todense(self):\n",
      "        toret = np.zeros(np.prod(self.shape))\n",
      "        toret[self.__indexes] = self.__values\n",
      "        return toret.reshape(self.shape)\n",
      "    \n",
      "    def __repr__(self):\n",
      "        return \"<sp3tensor \\n  val:%s , \\n  ind:%s>\" % (str(self.__values), str(self.__indexes))"
     ],
     "language": "python",
     "metadata": {},
     "outputs": [],
     "prompt_number": 3
    },
    {
     "cell_type": "markdown",
     "metadata": {},
     "source": [
      "### Layer decomposition testing"
     ]
    },
    {
     "cell_type": "code",
     "collapsed": false,
     "input": [
      "for i in range(100):\n",
      "    I = 2\n",
      "    J = 3\n",
      "    L = 4\n",
      "    A = np.arange(I*J*L).reshape(I, J, L)\n",
      "    A_ = sp3tensor.fromtensor(A)\n",
      "    if np.linalg.norm(sp3tensor.fromlayers(A_.tolayers()).todense() - A) > 0.0001:\n",
      "        print 'Test failed!\"'\n",
      "        break\n",
      "print 'All tests passed'"
     ],
     "language": "python",
     "metadata": {},
     "outputs": [
      {
       "output_type": "stream",
       "stream": "stdout",
       "text": [
        "All tests passed\n"
       ]
      }
     ],
     "prompt_number": 78
    },
    {
     "cell_type": "markdown",
     "metadata": {},
     "source": [
      "### Test unfoldings\n",
      "\n"
     ]
    },
    {
     "cell_type": "code",
     "collapsed": false,
     "input": [
      "def test_unfold1():\n",
      "    for i in range(100):\n",
      "        I = np.random.randint(5, 100)\n",
      "        J = np.random.randint(5, 100)\n",
      "        K = np.random.randint(1, 5)\n",
      "\n",
      "        A = np.zeros((I, J, K))\n",
      "\n",
      "        A[np.random.randint(0, I, I), np.random.randint(0, J, I), np.random.randint(0, K, I)] = np.random.rand(I)\n",
      "        A_ = sp3tensor.fromtensor(A)\n",
      "\n",
      "        if (np.linalg.norm(naive_unfold1(A) - A_.tofold_1())) > 0.0001:\n",
      "            print 'Test failed!'\n",
      "            break\n",
      "    print 'All tests are passed'\n",
      "    \n",
      "test_unfold1()\n",
      "\n",
      "def test_unfold2():\n",
      "    for i in range(100):\n",
      "        I = np.random.randint(5, 100)\n",
      "        J = np.random.randint(5, 100)\n",
      "        K = np.random.randint(1, 5)\n",
      "\n",
      "        A = np.zeros((I, J, K))\n",
      "\n",
      "        A[np.random.randint(0, I, I), np.random.randint(0, J, I), np.random.randint(0, K, I)] = np.random.rand(I)\n",
      "        A_ = sp3tensor.fromtensor(A)\n",
      "\n",
      "        if (np.linalg.norm(naive_unfold2(A) - A_.tofold_2())) > 0.0001:\n",
      "            print 'Test failed!'\n",
      "            break\n",
      "    print 'All tests are passed'\n",
      "\n",
      "test_unfold2()"
     ],
     "language": "python",
     "metadata": {},
     "outputs": [
      {
       "output_type": "stream",
       "stream": "stdout",
       "text": [
        "All tests are passed\n",
        "All tests are passed"
       ]
      },
      {
       "output_type": "stream",
       "stream": "stdout",
       "text": [
        "\n"
       ]
      }
     ],
     "prompt_number": 208
    },
    {
     "cell_type": "markdown",
     "metadata": {},
     "source": [
      "### Checking speed in compariasne with dense tensors"
     ]
    },
    {
     "cell_type": "code",
     "collapsed": false,
     "input": [
      "def speedcheck():\n",
      "    n_range = range(20, 500, 10)\n",
      "    \n",
      "    tenmat_N = 120\n",
      "    n_range_tenmat = range(20, tenmat_N, 10)\n",
      "    \n",
      "    dbt = [] # dense build time\n",
      "    sbt = [] # sparce build time\n",
      "    ddt = [] # dense dot time\n",
      "    sdt = [] # sparce dot time\n",
      "    dmt = [] # dense mat-prod time\n",
      "    smt = [] # sparce mat-prod time\n",
      "    smt2 = [] # sparce mat-prod time (second way)\n",
      "    \n",
      "    for N in n_range:\n",
      "        if N%50 == 0:\n",
      "            print 'Size is', N\n",
      "        L = 2\n",
      "        \n",
      "        D = np.random.rand(N, N)\n",
      "\n",
      "        A = np.zeros((N, N, L))\n",
      "        A[np.random.randint(0, N, 2*N), np.random.randint(0, N, 2*N), np.random.randint(0, L, 2*N)] = np.random.rand(2*N)\n",
      "        A_ = sp3tensor.fromtensor(A)\n",
      "        \n",
      "        s = time.clock()\n",
      "        B = np.zeros((N, N, L))\n",
      "        for i, j, k in zip(np.random.randint(0, N, 2*N), np.random.randint(0, N, 2*N), np.random.randint(0, L, 2*N)):\n",
      "            B[i, j, k] += np.random.randint(0, 2*N)\n",
      "        dbt.append( (time.clock() - s) )\n",
      "        \n",
      "        s = time.clock()\n",
      "        B_ = sp3tensor.zeros((N, N, L))\n",
      "        for i, j, k in zip(np.random.randint(0, N, 2*N), np.random.randint(0, N, 2*N), np.random.randint(0, L, 2*N)):\n",
      "            B_[i, j, k] += np.random.randint(0, N)\n",
      "        sbt.append( (time.clock() - s) )\n",
      "\n",
      "        s = time.clock()\n",
      "        for i in range(10):\n",
      "            A_.tenten(B_)\n",
      "        sdt.append( (time.clock() - s) )\n",
      "        \n",
      "        s = time.clock()\n",
      "        for i in range(10):\n",
      "            A.reshape(N, L*N).dot(B.transpose(0, 2, 1).reshape(L*N, N))    \n",
      "        ddt.append( (time.clock() - s) )\n",
      "        \n",
      "        if N < tenmat_N:\n",
      "        \n",
      "            s = time.clock()\n",
      "            for i in range(10):\n",
      "                A_.tenmat(D)\n",
      "            smt.append( (time.clock() - s) )\n",
      "            \n",
      "            s = time.clock()\n",
      "            for i in range(10):\n",
      "                A_.tenmat2(D)\n",
      "            smt2.append( time.clock() - s )\n",
      "\n",
      "            s = time.clock()\n",
      "            for i in range(10):\n",
      "                dense_tensmatr(A, D)\n",
      "            dmt.append( time.clock() - s )\n",
      "\n",
      "    plt.plot(n_range, dbt, label = 'Dense')\n",
      "    plt.plot(n_range, sbt, label = 'Sparce')\n",
      "    plt.title('Build time (assignment speed)')\n",
      "    plt.legend()\n",
      "    plt.show()\n",
      "    \n",
      "    plt.plot(n_range, ddt, label = 'Dense')\n",
      "    plt.plot(n_range, sdt, label = 'Sparce')\n",
      "    plt.title('Special Tensor-Tensor product time (multiplication speed)')\n",
      "    plt.legend()\n",
      "    plt.show()\n",
      "    \n",
      "    plt.plot(n_range_tenmat, dmt, label = 'Dense')\n",
      "    plt.plot(n_range_tenmat, smt, label = 'Sparce')\n",
      "    plt.plot(n_range_tenmat, smt2, label = 'Sparce-2')\n",
      "    plt.title('Special Tensor-Matrix (multiplication speed)')\n",
      "    plt.legend()\n",
      "    plt.show()\n",
      "        \n",
      "speedcheck()"
     ],
     "language": "python",
     "metadata": {},
     "outputs": [
      {
       "output_type": "stream",
       "stream": "stdout",
       "text": [
        "Size is 50\n",
        "Size is"
       ]
      },
      {
       "output_type": "stream",
       "stream": "stdout",
       "text": [
        " 100\n",
        "Size is"
       ]
      },
      {
       "output_type": "stream",
       "stream": "stdout",
       "text": [
        " 150\n",
        "Size is"
       ]
      },
      {
       "output_type": "stream",
       "stream": "stdout",
       "text": [
        " 200\n",
        "Size is"
       ]
      },
      {
       "output_type": "stream",
       "stream": "stdout",
       "text": [
        " 250\n",
        "Size is"
       ]
      },
      {
       "output_type": "stream",
       "stream": "stdout",
       "text": [
        " 300\n",
        "Size is"
       ]
      },
      {
       "output_type": "stream",
       "stream": "stdout",
       "text": [
        " 350\n",
        "Size is"
       ]
      },
      {
       "output_type": "stream",
       "stream": "stdout",
       "text": [
        " 400\n",
        "Size is"
       ]
      },
      {
       "output_type": "stream",
       "stream": "stdout",
       "text": [
        " 450\n"
       ]
      },
      {
       "metadata": {},
       "output_type": "display_data",
       "png": "[encoded data removed]",
       "text": [
        "<matplotlib.figure.Figure at 0x7f1316c84c10>"
       ]
      },
      {
       "metadata": {},
       "output_type": "display_data",
       "png": "[encoded data removed]",
       "text": [
        "<matplotlib.figure.Figure at 0x7f1316bfd210>"
       ]
      },
      {
       "metadata": {},
       "output_type": "display_data",
       "png": "[encoded data removed]",
       "text": [
        "<matplotlib.figure.Figure at 0x7f13381f9f50>"
       ]
      }
     ],
     "prompt_number": 25
    },
    {
     "cell_type": "markdown",
     "metadata": {},
     "source": [
      "### Tensor-tensor multiplication test"
     ]
    },
    {
     "cell_type": "code",
     "collapsed": false,
     "input": [
      "def test_tenten():\n",
      "    for i in range(100):\n",
      "        I = np.random.randint(5, 100)\n",
      "        J = np.random.randint(5, 100)\n",
      "        K = np.random.randint(1, 5)\n",
      "\n",
      "        A = np.zeros((I, J, K))\n",
      "        B = np.zeros((J, I, K))\n",
      "\n",
      "        A[np.random.randint(0, I, I), np.random.randint(0, J, I), np.random.randint(0, K, I)] = np.random.rand(I)\n",
      "        A_ = sp3tensor.fromtensor(A)\n",
      "\n",
      "        B[np.random.randint(0, J, I), np.random.randint(0, I, I), np.random.randint(0, K, I)] = np.random.rand(I)\n",
      "        B_ = sp3tensor.fromtensor(B)\n",
      "        \n",
      "        if np.linalg.norm(A_.tenten(B_) - dense_convolution(A, B)) > 0:\n",
      "            print 'Test failed!'\n",
      "            break\n",
      "            \n",
      "    print 'All tentendot test are passed!'\n",
      "        \n",
      "test_tenten()"
     ],
     "language": "python",
     "metadata": {},
     "outputs": [
      {
       "output_type": "stream",
       "stream": "stdout",
       "text": [
        "All tentendot test are passed!\n"
       ]
      }
     ],
     "prompt_number": 102
    },
    {
     "cell_type": "markdown",
     "metadata": {},
     "source": [
      "### Tensor-matrix multiplication test"
     ]
    },
    {
     "cell_type": "code",
     "collapsed": false,
     "input": [
      "def test_tenmat():\n",
      "    for i in range(100):\n",
      "        I = np.random.randint(5, 100)\n",
      "        J = np.random.randint(5, 100)\n",
      "        K = np.random.randint(1, 5)\n",
      "        M = np.random.randint(5, 100)\n",
      "        \n",
      "        A = np.zeros((I, J, K))\n",
      "        D = np.random.randint(0, 10, J*M).reshape(J, M)\n",
      "        \n",
      "        A[np.random.randint(0, I, I), np.random.randint(0, J, I), np.random.randint(0, K, I)] = np.random.rand(I)\n",
      "        A_ = sp3tensor.fromtensor(A)\n",
      "        \n",
      "        if np.linalg.norm(A_.tenmat(D).todense() - dense_tensmatr(A, D)) > 0.00001:\n",
      "            print 'Test failed!'\n",
      "            break\n",
      "            \n",
      "    print 'All test are passed!'\n",
      "    \n",
      "test_tenmat()"
     ],
     "language": "python",
     "metadata": {},
     "outputs": [
      {
       "output_type": "stream",
       "stream": "stdout",
       "text": [
        "All test are passed!\n"
       ]
      }
     ],
     "prompt_number": 137
    },
    {
     "cell_type": "code",
     "collapsed": false,
     "input": [
      "def test_tenmat3():\n",
      "    for i in range(100):\n",
      "        I = np.random.randint(5, 100)\n",
      "        J = np.random.randint(5, 100)\n",
      "        K = np.random.randint(1, 5)\n",
      "        M = np.random.randint(5, 100)\n",
      "        \n",
      "        A = np.zeros((I, J, K))\n",
      "        D = np.random.randint(0, 10, J*M).reshape(J, M)\n",
      "        \n",
      "        A[np.random.randint(0, I, I), np.random.randint(0, J, I), np.random.randint(0, K, I)] = np.random.rand(I)\n",
      "        A_ = sp3tensor.fromtensor(A)\n",
      "        \n",
      "        if np.linalg.norm(A_.tenmat3(D).todense() - dense_tensmatr(A, D)) > 0.00001:\n",
      "            print 'Test failed!'\n",
      "            break\n",
      "            \n",
      "    print 'All test are passed!'\n",
      "    \n",
      "test_tenmat3()"
     ],
     "language": "python",
     "metadata": {},
     "outputs": [
      {
       "output_type": "stream",
       "stream": "stdout",
       "text": [
        "All test are passed!\n"
       ]
      }
     ],
     "prompt_number": 34
    },
    {
     "cell_type": "markdown",
     "metadata": {},
     "source": [
      "### Testing multiplications on huge numbers (thousands)"
     ]
    },
    {
     "cell_type": "code",
     "collapsed": false,
     "input": [
      "def test_huge_numbers(repeates = 5):\n",
      "    from datetime import datetime\n",
      "    n_range = range(1000, 6000, 1000)\n",
      "    data = []\n",
      "    L = 2\n",
      "    for N in n_range:\n",
      "        print N\n",
      "        A = np.zeros((N, N, L))\n",
      "        A[np.random.randint(0, N, 2*N), np.random.randint(0, N, 2*N), np.random.randint(0, L, 2*N)] = np.random.rand(2*N)\n",
      "        A_ = sp3tensor.fromtensor(A)\n",
      "        \n",
      "        D = np.random.rand(N, N)\n",
      "        \n",
      "        t = []\n",
      "        \n",
      "        s = time.clock()\n",
      "        for i in range(repeates):\n",
      "            A_.tenmat2(D)\n",
      "        t1 = time.clock() - s\n",
      "        \n",
      "        s = time.clock()\n",
      "        for i in range(repeates):\n",
      "            A_.tenmat3(D)\n",
      "        t2 = time.clock() - s\n",
      "        \n",
      "        s = time.clock()\n",
      "        for i in range(repeates):\n",
      "            A_.tenmat3(D, sparce = True)\n",
      "        t3 = time.clock() - s\n",
      "        \n",
      "        s = time.clock()\n",
      "        for i in range(repeates):\n",
      "            A_.tenten(A_)\n",
      "        t4 = time.clock() - s\n",
      "        \n",
      "        data.append( (t1/repeates, t2/repeates, t3/repeates,  t4/repeates) )\n",
      "        \n",
      "    plt.plot(n_range, zip(*data)[0], label = 'tenmat2')\n",
      "    plt.plot(n_range, zip(*data)[1], label = 'tenmat3')\n",
      "    plt.plot(n_range, zip(*data)[2], label = 'tenmat3-sparce')\n",
      "    plt.title('Martix-Tensor Special Prod Time on huge N')\n",
      "    plt.legend()\n",
      "    plt.show()\n",
      "    plt.plot(n_range, zip(*data)[3], label = 'tenten')\n",
      "    plt.title('Tensor-Tensor Special Prod Time on huge N')\n",
      "    plt.show()\n",
      "    \n",
      "test_huge_numbers(repeates = 3)"
     ],
     "language": "python",
     "metadata": {},
     "outputs": [
      {
       "output_type": "stream",
       "stream": "stdout",
       "text": [
        "1000\n",
        "2000"
       ]
      },
      {
       "output_type": "stream",
       "stream": "stdout",
       "text": [
        "\n",
        "3000"
       ]
      },
      {
       "output_type": "stream",
       "stream": "stdout",
       "text": [
        "\n",
        "4000"
       ]
      },
      {
       "output_type": "stream",
       "stream": "stdout",
       "text": [
        "\n",
        "5000"
       ]
      },
      {
       "output_type": "stream",
       "stream": "stdout",
       "text": [
        "\n"
       ]
      },
      {
       "metadata": {},
       "output_type": "display_data",
       "png": "[encoded data removed]",
       "text": [
        "<matplotlib.figure.Figure at 0x7f5b9c2927d0>"
       ]
      },
      {
       "metadata": {},
       "output_type": "display_data",
       "png": "[encoded data removed]",
       "text": [
        "<matplotlib.figure.Figure at 0x7f5b9c292c10>"
       ]
      }
     ],
     "prompt_number": 24
    },
    {
     "cell_type": "code",
     "collapsed": false,
     "input": [
      "def hist(x):\n",
      "    hist, bins = np.histogram(x, bins=50)\n",
      "    width = 0.8 * (bins[1] - bins[0])\n",
      "    center = (bins[:-1] + bins[1:]) / 2\n",
      "    plt.bar(center, hist, align='center', width=width)\n",
      "    plt.show()\n",
      "\n",
      "n_range = range(10, 160, 20)\n",
      "data = []\n",
      "for N in n_range:\n",
      "    L = 2\n",
      "    A = np.zeros((N, N, L))\n",
      "    A[np.random.randint(0, N, N*N), np.random.randint(0, N, N*N), np.random.randint(0, L, N*N)] = np.random.rand(N*N)\n",
      "    A_ = sp3tensor.fromtensor(A)\n",
      "\n",
      "    D = np.random.rand(N, N)\n",
      "\n",
      "    s = A_.shape[0]\n",
      "    ATD_ = A_.T.tenmat3(D, sparce = True)\n",
      "    ATDA_ = A_.T.tenmat3(D, sparce = True).tenten(A_)\n",
      "    data.append( (float(A_.nnz)/s,  \n",
      "                  float(ATD_.nnz)/s, \n",
      "                  float(ATDA_.nnz)/s ) )\n",
      "#     if N in [50, 150]:\n",
      "#         plt.title('Histogram of A values, N = %d' % N)\n",
      "#         hist(A_.data)\n",
      "#         plt.title('Histogram of AD values, N = %d' % N)\n",
      "#         hist(A_.tenmat(D).data)\n",
      "#         plt.title('Histogram of ADA values, N = %d' % N)\n",
      "#         hist(A_.tenmat(D).tenten(A_).data)\n",
      "    \n",
      "plt.plot(n_range, zip(*data)[0], label = 'A')\n",
      "plt.plot(n_range, zip(*data)[1], label = 'AD')\n",
      "plt.plot(n_range, zip(*data)[2], label = 'ADA')\n",
      "plt.xlabel('N')\n",
      "plt.ylabel('filled cells \\ N')\n",
      "plt.legend()"
     ],
     "language": "python",
     "metadata": {},
     "outputs": [
      {
       "metadata": {},
       "output_type": "pyout",
       "prompt_number": 32,
       "text": [
        "<matplotlib.legend.Legend at 0x7f40a2401610>"
       ]
      },
      {
       "metadata": {},
       "output_type": "display_data",
       "png": "[encoded data removed]",
       "text": [
        "<matplotlib.figure.Figure at 0x7f40a24c4710>"
       ]
      }
     ],
     "prompt_number": 32
    },
    {
     "cell_type": "markdown",
     "metadata": {},
     "source": [
      "### Tensor T test"
     ]
    },
    {
     "cell_type": "code",
     "collapsed": false,
     "input": [
      "# def transpose_test():\n",
      "#     for i in range(100):\n",
      "#         I = np.random.randint(5, 10)\n",
      "#         J = np.random.randint(5, 10)\n",
      "#         K = np.random.randint(1, 5)\n",
      "\n",
      "#         A = np.zeros((I, J, K))\n",
      "#         A[np.random.randint(0, I, 3*I), np.random.randint(0, J, 3*I), np.random.randint(0, K, 3*I)] = np.random.randint(0, K, 3*I)\n",
      "\n",
      "#         A_ = sp3tensor.fromtensor(A)\n",
      "\n",
      "#         if np.linalg.norm(A_.T.todense() - A.transpose(1, 0, 2)) > 0.0000001:\n",
      "#             print 'Test failed!'\n",
      "#             break\n",
      "            \n",
      "#     print 'All test are passed!'\n",
      "    \n",
      "# transpose_test()\n",
      "\n",
      "def transpose_test():\n",
      "    for i in range(100):\n",
      "        I = np.random.randint(5, 10)\n",
      "        J = np.random.randint(5, 10)\n",
      "        K = np.random.randint(1, 5)\n",
      "\n",
      "        A = np.zeros((I, J, K))\n",
      "        A[np.random.randint(0, I, 3*I), np.random.randint(0, J, 3*I), np.random.randint(0, K, 3*I)] = np.random.rand(3*I)\n",
      "\n",
      "        A_ = sp3tensor.fromtensor(A)\n",
      "        \n",
      "        if np.linalg.norm(A_.T.todense() - A.transpose(1, 0, 2)) > 0:\n",
      "            print 'Test failed!'\n",
      "            break\n",
      "            \n",
      "    print 'All tests have passed!'\n",
      "\n",
      "transpose_test()"
     ],
     "language": "python",
     "metadata": {},
     "outputs": [
      {
       "output_type": "stream",
       "stream": "stdout",
       "text": [
        "All tests have passed!\n"
       ]
      }
     ],
     "prompt_number": 95
    },
    {
     "cell_type": "markdown",
     "metadata": {},
     "source": [
      "### Test equation comparation\n",
      "\n",
      "$\\textbf W^T \\odot_2 S_{k} \\odot_1 \\textbf W = (\\textbf W^T \\odot_1 (\\textbf W^T \\odot_2 S_{k})^T)^T$"
     ]
    },
    {
     "cell_type": "code",
     "collapsed": false,
     "input": [
      "for i in range(100):\n",
      "    I = np.random.randint(5, 100)\n",
      "    J = np.random.randint(5, 100)\n",
      "    K = np.random.randint(1, 5)\n",
      "\n",
      "    W_t = np.zeros((I, J, K))\n",
      "    W_t[np.random.randint(0, I, 3*I), np.random.randint(0, J, 3*I), np.random.randint(0, K, 3*I)] = np.random.rand(3*I)\n",
      "\n",
      "    S = np.random.rand(I*I).reshape(I, I)\n",
      "\n",
      "    W = sp3tensor.fromtensor(W_t)\n",
      "\n",
      "    res1 = W.T.tenmat3(S, sparce=True).tenten(W)\n",
      "    res2 = (W.T.tenten(W.T.tenmat3(S).transpose(1, 0, 2))).T\n",
      "    if not np.all(res1 == res2):\n",
      "        print 'Test failed!'\n",
      "        break\n",
      "print 'All test passed'"
     ],
     "language": "python",
     "metadata": {},
     "outputs": [
      {
       "output_type": "stream",
       "stream": "stdout",
       "text": [
        "All test passed\n"
       ]
      }
     ],
     "prompt_number": 269
    },
    {
     "cell_type": "markdown",
     "metadata": {},
     "source": [
      "### Test eq speed\n",
      "\n",
      "Speed test:\n",
      "$\\textbf W^T \\odot_2 S_{k} \\odot_1 \\textbf W $\n",
      "vesus\n",
      "$(\\textbf W^T \\odot_1 (\\textbf W^T \\odot_2 S_{k})^T)^T$"
     ]
    },
    {
     "cell_type": "code",
     "collapsed": false,
     "input": [
      "def test_eq_speed(repeates = 5):\n",
      "    from datetime import datetime\n",
      "    n_range = range(10, 500, 10) + range(500, 1000, 100) + range(1000, 2000, 200)\n",
      "    data = []\n",
      "    for N in n_range:\n",
      "        if N%100 == 0:\n",
      "            print N, ' ',\n",
      "        I = N\n",
      "        J = N\n",
      "        K = 3\n",
      "\n",
      "        W_t = np.zeros((I, J, K))\n",
      "        W_t[np.random.randint(0, I, 3*I), np.random.randint(0, J, 3*I), np.random.randint(0, K, 3*I)] = np.random.rand(3*I)\n",
      "\n",
      "        S = np.random.rand(I*I).reshape(I, I)\n",
      "\n",
      "        W = sp3tensor.fromtensor(W_t)\n",
      "\n",
      "        s = time.clock()\n",
      "        for i in range(repeates):\n",
      "            W.T.tenmat3(S, sparce=True).tenten(W)\n",
      "        t1 = time.clock() - s\n",
      "        \n",
      "        s = time.clock()\n",
      "        for i in range(repeates):\n",
      "            (W.T.tenten(W.T.tenmat3(S).transpose(1, 0, 2))).T\n",
      "        t2 =  time.clock() - s\n",
      "        \n",
      "        data.append( (t1/repeates, t2/repeates) )\n",
      "        \n",
      "    plt.plot(n_range, zip(*data)[0], label = 'simple')\n",
      "    plt.plot(n_range, zip(*data)[1], label = 'reverse')\n",
      "    plt.title('Simple vs reverse counting order')\n",
      "    plt.legend()\n",
      "    plt.show()\n",
      "    \n",
      "test_eq_speed(repeates = 3)"
     ],
     "language": "python",
     "metadata": {},
     "outputs": [
      {
       "output_type": "stream",
       "stream": "stdout",
       "text": [
        "100   "
       ]
      },
      {
       "output_type": "stream",
       "stream": "stdout",
       "text": [
        "200   "
       ]
      },
      {
       "output_type": "stream",
       "stream": "stdout",
       "text": [
        "300   "
       ]
      },
      {
       "output_type": "stream",
       "stream": "stdout",
       "text": [
        "400   "
       ]
      },
      {
       "output_type": "stream",
       "stream": "stdout",
       "text": [
        "500   "
       ]
      },
      {
       "output_type": "stream",
       "stream": "stdout",
       "text": [
        "600   "
       ]
      },
      {
       "output_type": "stream",
       "stream": "stdout",
       "text": [
        "700   "
       ]
      },
      {
       "output_type": "stream",
       "stream": "stdout",
       "text": [
        "800   "
       ]
      },
      {
       "output_type": "stream",
       "stream": "stdout",
       "text": [
        "900   "
       ]
      },
      {
       "output_type": "stream",
       "stream": "stdout",
       "text": [
        "1000   "
       ]
      },
      {
       "output_type": "stream",
       "stream": "stdout",
       "text": [
        "1200   "
       ]
      },
      {
       "output_type": "stream",
       "stream": "stdout",
       "text": [
        "1400   "
       ]
      },
      {
       "output_type": "stream",
       "stream": "stdout",
       "text": [
        "1600   "
       ]
      },
      {
       "output_type": "stream",
       "stream": "stdout",
       "text": [
        "1800  "
       ]
      },
      {
       "metadata": {},
       "output_type": "display_data",
       "png": "[encoded data removed]",
       "text": [
        "<matplotlib.figure.Figure at 0x7f5b7bc75950>"
       ]
      },
      {
       "output_type": "stream",
       "stream": "stdout",
       "text": [
        "\n"
       ]
      }
     ],
     "prompt_number": 277
    },
    {
     "cell_type": "markdown",
     "metadata": {},
     "source": [
      "## Tensor SimRank"
     ]
    },
    {
     "cell_type": "code",
     "collapsed": false,
     "input": [
      "def tensort_simrank(W, c = 0.1, e = 0.00001):\n",
      "    if W.shape[0] != W.shape[1]:\n",
      "        raise NotImplementedError, 'Now can promise only for square tensors like NxNxK'\n",
      "    \n",
      "    I = W.shape[0]\n",
      "    \n",
      "    Sk = np.identity(I)\n",
      "    res = 100\n",
      "    \n",
      "    s = time.clock()\n",
      "    while res > e:\n",
      "        core = (W.T.tenten(W.T.tenmat3(Sk).transpose(1, 0, 2))).T\n",
      "        Sk_ = c*core - c*np.diag(np.diag(core)) + np.identity(I)\n",
      "        res = np.linalg.norm(Sk - Sk_)\n",
      "        Sk = Sk_\n",
      "        print res \n",
      "    print 'Done is %f CPU-sec' % (time.clock() - s)\n",
      "    return Sk"
     ],
     "language": "python",
     "metadata": {},
     "outputs": [],
     "prompt_number": 75
    },
    {
     "cell_type": "markdown",
     "metadata": {},
     "source": [
      "## Experiments"
     ]
    },
    {
     "cell_type": "code",
     "collapsed": false,
     "input": [
      "text = \"this very nice dog looks almost like that very cute puppy that looks almost like pretty dog\".split()\n",
      "D = list(set(text))\n",
      "# print D\n",
      "text_id = [D.index(w) for w in text]\n",
      "# print text_id\n",
      "I = np.max(text_id) + 1\n",
      "w = 1\n",
      "A = sp3tensor.zeros((I, I, w*2))\n",
      "\n",
      "print len(text)\n",
      "for i in range(1, len(text_id)-w):\n",
      "    for k in range(-w, w+1):\n",
      "        if k != 0:\n",
      "            A[text_id[i], \n",
      "              text_id[i+k], \n",
      "              (k+w)/2] += 1\n",
      "\n",
      "def unzero_vec(x):\n",
      "    r = x[0]\n",
      "    r[x==0] = 1\n",
      "    return r\n",
      "\n",
      "W = sp3tensor.fromlayers([x.astype(float) / unzero_vec(x.sum(axis = 0)) for x in A.tolayers()])\n",
      "\n",
      "# print W.T.tenten(W).todense()\n",
      "S = tensort_simrank(W)\n",
      "\n",
      "print 'valuable: '\n",
      "\n",
      "results = []\n",
      "\n",
      "for i in range(S.shape[0]):\n",
      "    for j in range(i, S.shape[1]):\n",
      "        if i != j:\n",
      "            if S[i, j] > 0.0001:\n",
      "                results.append( ( D[i], D[j], S[i, j] ) )\n",
      "                \n",
      "for w1, w2, val in sorted(results, key = lambda x: x[2], reverse = True):\n",
      "    print w1, '\\t', w2, '\\t', val"
     ],
     "language": "python",
     "metadata": {},
     "outputs": [
      {
       "output_type": "stream",
       "stream": "stdout",
       "text": [
        "17\n",
        "0.212132034356\n",
        "0.0221500564333\n",
        "0.00253105709141\n",
        "0.000411302713187\n",
        "5.28175848144e-05\n",
        "9.05822358356e-06\n",
        "valuable: \n",
        "cute \tnice \t0.10050390625\n",
        "like \tpuppy \t0.053705296875\n",
        "very \tlooks \t0.0534475585937\n",
        "that \tdog \t0.0528717929687\n",
        "that \tpretty \t0.052685203125\n",
        "that \tthis \t0.0526723203125\n",
        "cute \talmost \t0.010715046875\n",
        "almost \tnice \t0.00537221875\n",
        "this \tdog \t0.005344640625\n",
        "puppy \tnice \t0.0053138359375\n",
        "dog \tpuppy \t0.005039578125\n",
        "like \tnice \t0.00266494140625\n",
        "dog \tvery \t0.002657625\n",
        "dog \tlooks \t0.0013361953125\n",
        "like \tdog \t0.00027634765625\n",
        "cute \tvery \t0.000268359375\n",
        "this \tnice \t0.000265703125\n",
        "that \tnice \t0.000200375\n",
        "almost \tvery \t0.0001483125\n",
        "that \tlooks \t0.000144333984375\n",
        "cute \tlooks \t0.0001348828125\n",
        "looks \tnice \t0.0001342578125\n",
        "dog \tnice \t0.0001339765625\n",
        "dog \tpretty \t0.0001332421875\n"
       ]
      }
     ],
     "prompt_number": 5
    },
    {
     "cell_type": "code",
     "collapsed": false,
     "input": [
      "from collections import Counter\n",
      "\n",
      "import nltk\n",
      "\n",
      "def build_adjustancy_matrix(aprox_n = 5000):\n",
      "    c = Counter(open('/home/ben/tmp/en_small_corpra/eng_news_2005_10K-sentences.txt.out').read().split())\n",
      "    \n",
      "    l = zip(*c.most_common(aprox_n))[0]\n",
      "    D = [w[0] for w in nltk.pos_tag(l) if w[1][0] in ['N', 'V', 'W', 'A', 'J']]\n",
      "\n",
      "    print 'Exmple of words used:', D[:100]\n",
      "\n",
      "    I = len(D)\n",
      "    print 'Number of words left:', I\n",
      "\n",
      "    w = 1\n",
      "    A = sp3tensor.zeros((I, I, w*2))\n",
      "    it_n = 0\n",
      "\n",
      "    for line in open('/home/ben/tmp/en_small_corpra/eng_news_2005_10K-sentences.txt.out'):\n",
      "        it_n += 1\n",
      "        if it_n % 300 == 0:\n",
      "            print it_n, ' ',\n",
      "\n",
      "#         if it_n > 5000:\n",
      "#             break\n",
      "\n",
      "        text_line_id = [D.index(x) if x in D else -1 for x in line.split()]\n",
      "        for i in range(w, len(text_line_id)-w):\n",
      "            if text_line_id[i] != -1:\n",
      "                for k in range(-w, w+1):\n",
      "                    if k != 0 and text_line_id[i+k] != -1:\n",
      "                        A[text_line_id[i], \n",
      "                          text_line_id[i+k], \n",
      "                          (k+w)/2] += 1\n",
      "        \n",
      "    return A, D\n",
      "                        \n",
      "A, D = build_adjustancy_matrix()"
     ],
     "language": "python",
     "metadata": {},
     "outputs": [
      {
       "output_type": "stream",
       "stream": "stdout",
       "text": [
        "Exmple of words used: ['is', 'NN', 'said', 'was', 'be', 'NNNN', 'are', 'has', 'have', 'but', 'NNN', 'who', 'had', 'were', 'N', 'more', 'been', 'new', 'when', 'which', 'last', 'year', 'years', 'people', 'time', 'other', 'what', 'school', 'state', 'home', 'city', 'get', 'do', 'day', 'percent', 'work', 'off', 'many', 'most', 'second', 'good', 'team', 'game', 'made', 'being', 'says', 'where', 'high', 'make', 'season', 'NNNNN', 'police', 'how', 'way', 'company', 'such', 'friday', 'government', 'public', 'going', 'national', 'help', 'say', 'business', 'county', 'week', 'president', 'including', 'did', 'world', 'play', 'use', 'officials', 'dont', 'win', 'pm', 'think', 'much', 'got', 'go', 'run', 'part', 'group', 'left', 'take', 'mr', 'board', 'money', 'place', 'according', 'NNNNNN', 'house', 'states', 'thursday', 'used', 'set', 'students', 'center', 'found', 'games']\n",
        "Number of words left: 4667\n",
        "300"
       ]
      },
      {
       "output_type": "stream",
       "stream": "stdout",
       "text": [
        "   "
       ]
      },
      {
       "output_type": "stream",
       "stream": "stdout",
       "text": [
        "600   "
       ]
      },
      {
       "output_type": "stream",
       "stream": "stdout",
       "text": [
        "900   "
       ]
      },
      {
       "output_type": "stream",
       "stream": "stdout",
       "text": [
        "1200   "
       ]
      },
      {
       "output_type": "stream",
       "stream": "stdout",
       "text": [
        "1500   "
       ]
      },
      {
       "output_type": "stream",
       "stream": "stdout",
       "text": [
        "1800   "
       ]
      },
      {
       "output_type": "stream",
       "stream": "stdout",
       "text": [
        "2100   "
       ]
      },
      {
       "output_type": "stream",
       "stream": "stdout",
       "text": [
        "2400   "
       ]
      },
      {
       "output_type": "stream",
       "stream": "stdout",
       "text": [
        "2700   "
       ]
      },
      {
       "output_type": "stream",
       "stream": "stdout",
       "text": [
        "3000   "
       ]
      },
      {
       "output_type": "stream",
       "stream": "stdout",
       "text": [
        "3300   "
       ]
      },
      {
       "output_type": "stream",
       "stream": "stdout",
       "text": [
        "3600   "
       ]
      },
      {
       "output_type": "stream",
       "stream": "stdout",
       "text": [
        "3900   "
       ]
      },
      {
       "output_type": "stream",
       "stream": "stdout",
       "text": [
        "4200   "
       ]
      },
      {
       "output_type": "stream",
       "stream": "stdout",
       "text": [
        "4500   "
       ]
      },
      {
       "output_type": "stream",
       "stream": "stdout",
       "text": [
        "4800   "
       ]
      },
      {
       "output_type": "stream",
       "stream": "stdout",
       "text": [
        "5100   "
       ]
      },
      {
       "output_type": "stream",
       "stream": "stdout",
       "text": [
        "5400   "
       ]
      },
      {
       "output_type": "stream",
       "stream": "stdout",
       "text": [
        "5700   "
       ]
      },
      {
       "output_type": "stream",
       "stream": "stdout",
       "text": [
        "6000   "
       ]
      },
      {
       "output_type": "stream",
       "stream": "stdout",
       "text": [
        "6300   "
       ]
      },
      {
       "output_type": "stream",
       "stream": "stdout",
       "text": [
        "6600   "
       ]
      },
      {
       "output_type": "stream",
       "stream": "stdout",
       "text": [
        "6900   "
       ]
      },
      {
       "output_type": "stream",
       "stream": "stdout",
       "text": [
        "7200   "
       ]
      },
      {
       "output_type": "stream",
       "stream": "stdout",
       "text": [
        "7500   "
       ]
      },
      {
       "output_type": "stream",
       "stream": "stdout",
       "text": [
        "7800   "
       ]
      },
      {
       "output_type": "stream",
       "stream": "stdout",
       "text": [
        "8100   "
       ]
      },
      {
       "output_type": "stream",
       "stream": "stdout",
       "text": [
        "8400   "
       ]
      },
      {
       "output_type": "stream",
       "stream": "stdout",
       "text": [
        "8700   "
       ]
      },
      {
       "output_type": "stream",
       "stream": "stdout",
       "text": [
        "9000   "
       ]
      },
      {
       "output_type": "stream",
       "stream": "stdout",
       "text": [
        "9300   "
       ]
      },
      {
       "output_type": "stream",
       "stream": "stdout",
       "text": [
        "9600   "
       ]
      },
      {
       "output_type": "stream",
       "stream": "stdout",
       "text": [
        "9900  \n"
       ]
      }
     ],
     "prompt_number": 76
    },
    {
     "cell_type": "code",
     "collapsed": false,
     "input": [
      "def unzero_vec(x):\n",
      "    r = x[0]\n",
      "    r[x==0] = 1\n",
      "    return r\n",
      "\n",
      "def build_simrank(A):\n",
      "    W = sp3tensor.fromlayers([x.astype(float) / unzero_vec(x.sum(axis = 0)) for x in A.tolayers()])\n",
      "\n",
      "    S = tensort_simrank(W)\n",
      "    return S\n",
      "\n",
      "def find_closest(S, D):\n",
      "    print 'valuable: '\n",
      "    results = []\n",
      "\n",
      "    for i in range(S.shape[0]):\n",
      "        for j in range(i, S.shape[1]):\n",
      "            if i != j:\n",
      "                if S[i, j] > 0.001:\n",
      "                    results.append( ( D[i], D[j], S[i, j] ) )\n",
      "\n",
      "    for w1, w2, val in sorted(results, key = lambda x: x[2], reverse = True)[:50]:\n",
      "        print w1, '\\t', w2, '\\t', val\n",
      "        \n",
      "S = build_simrank(A)\n",
      "# find_closest(S, D)"
     ],
     "language": "python",
     "metadata": {},
     "outputs": [
      {
       "output_type": "stream",
       "stream": "stdout",
       "text": [
        "15.5095485601\n",
        "0.522584680261"
       ]
      },
      {
       "output_type": "stream",
       "stream": "stdout",
       "text": [
        "\n",
        "0.086883176564"
       ]
      },
      {
       "output_type": "stream",
       "stream": "stdout",
       "text": [
        "\n",
        "0.0147029780982"
       ]
      },
      {
       "output_type": "stream",
       "stream": "stdout",
       "text": [
        "\n",
        "0.00296742747781"
       ]
      },
      {
       "output_type": "stream",
       "stream": "stdout",
       "text": [
        "\n",
        "0.000562791751852"
       ]
      },
      {
       "output_type": "stream",
       "stream": "stdout",
       "text": [
        "\n",
        "0.000109895982566"
       ]
      },
      {
       "output_type": "stream",
       "stream": "stdout",
       "text": [
        "\n",
        "2.11191377755e-05"
       ]
      },
      {
       "output_type": "stream",
       "stream": "stdout",
       "text": [
        "\n",
        "4.08516850652e-06"
       ]
      },
      {
       "output_type": "stream",
       "stream": "stdout",
       "text": [
        "\n",
        "Done is 60.560000 CPU-sec\n"
       ]
      }
     ],
     "prompt_number": 77
    },
    {
     "cell_type": "code",
     "collapsed": false,
     "input": [
      "def find_S_vector_decomposition(S):\n",
      "    print '0-persent', float(np.sum(S == 0)) / np.prod(S.shape)\n",
      "\n",
      "    n = S.shape[0]\n",
      "    r = int(0.1*n)\n",
      "\n",
      "#     Z = np.random.normal(size = n*p).reshape(n, p)\n",
      "#     B = np.dot(S, Z)\n",
      "\n",
      "    U, d, V = np.linalg.svd(S, full_matrices=False)\n",
      "    plt.plot(d)\n",
      "    U_ = U[:, :r]\n",
      "    D_ = np.diag(d[:r])\n",
      "    V_ = V[:r]\n",
      "    basis = U_\n",
      "    vec = D_.dot(V_)\n",
      "    print S.shape\n",
      "    print basis.shape\n",
      "    print vec.shape\n",
      "\n",
      "    return basis, vec\n",
      "    \n",
      "B, V = find_S_vector_decomposition(S)"
     ],
     "language": "python",
     "metadata": {},
     "outputs": [
      {
       "output_type": "stream",
       "stream": "stdout",
       "text": [
        "0-persent "
       ]
      },
      {
       "output_type": "stream",
       "stream": "stdout",
       "text": [
        "0.0357396798634\n",
        "(4667, 4667)"
       ]
      },
      {
       "output_type": "stream",
       "stream": "stdout",
       "text": [
        "\n",
        "(4667, 466)\n",
        "(466, 4667)\n"
       ]
      },
      {
       "metadata": {},
       "output_type": "display_data",
       "png": "[encoded data removed]",
       "text": [
        "<matplotlib.figure.Figure at 0x7f64e8d520d0>"
       ]
      }
     ],
     "prompt_number": 104
    },
    {
     "cell_type": "code",
     "collapsed": false,
     "input": [
      "class ListTable(list):\n",
      "    \"\"\" Overridden list class which takes a 2-dimensional list of \n",
      "        the form [[1,2,3],[4,5,6]], and renders an HTML Table in \n",
      "        IPython Notebook. \"\"\"\n",
      "    \n",
      "    def _repr_html_(self):\n",
      "        html = [\"<table>\"]\n",
      "        for row in self:\n",
      "            html.append(\"<tr>\")\n",
      "            \n",
      "            for col in row:\n",
      "                html.append(\"<td>{0}</td>\".format(col))\n",
      "            \n",
      "            html.append(\"</tr>\")\n",
      "        html.append(\"</table>\")\n",
      "        return ''.join(html)\n",
      "    \n",
      "def build_comparisane_table():\n",
      "    table = ListTable()\n",
      "\n",
      "    words = ['wood', 'woods', 'man', 'woman', 'dog', 'cat', 'picked', 'laid', 'taken', 'given', 'missed', 'signed', 'nice', 'good', 'bad']\n",
      "    vecdict = dict([(w, V[:, D.index(w)]) for w in words])\n",
      "    table.append([' '] + words)\n",
      "\n",
      "    for w1 in words:\n",
      "        row = []\n",
      "        for w2 in words:\n",
      "            v1 = vecdict[w1]\n",
      "            v2 = vecdict[w2]\n",
      "            row.append(np.dot(v1, v2)/(np.linalg.norm(v1)*np.linalg.norm(v2)))\n",
      "        row = [w1] + ['%.4f' % row[id] if row[id] < 0.07 else '<b>%.4f</b>'%row[id] for id in range(len(row))]\n",
      "        table.append(row)\n",
      "\n",
      "    return table\n",
      "\n",
      "build_comparisane_table()"
     ],
     "language": "python",
     "metadata": {},
     "outputs": [
      {
       "html": [
        "<table><tr><td> </td><td>wood</td><td>woods</td><td>man</td><td>woman</td><td>dog</td><td>cat</td><td>picked</td><td>laid</td><td>taken</td><td>given</td><td>missed</td><td>signed</td><td>nice</td><td>good</td><td>bad</td></tr><tr><td>wood</td><td><b>1.0000</b></td><td><b>0.6211</b></td><td><b>0.3473</b></td><td><b>0.2097</b></td><td>0.0294</td><td>0.0219</td><td>0.0075</td><td>0.0185</td><td>0.0153</td><td>0.0104</td><td>0.0099</td><td>0.0180</td><td>0.0122</td><td>0.0041</td><td>0.0265</td></tr><tr><td>woods</td><td><b>0.6211</b></td><td><b>1.0000</b></td><td><b>0.6377</b></td><td><b>0.2538</b></td><td>0.0294</td><td>0.0225</td><td>0.0083</td><td>0.0083</td><td>0.0133</td><td>0.0103</td><td>0.0126</td><td>0.0106</td><td>0.0102</td><td>0.0196</td><td>0.0166</td></tr><tr><td>man</td><td><b>0.3473</b></td><td><b>0.6377</b></td><td><b>1.0000</b></td><td><b>0.5843</b></td><td><b>0.1559</b></td><td><b>0.1311</b></td><td>0.0136</td><td>0.0266</td><td>0.0334</td><td>0.0182</td><td>0.0245</td><td>0.0667</td><td>0.0199</td><td>0.0424</td><td>0.0470</td></tr><tr><td>woman</td><td><b>0.2097</b></td><td><b>0.2538</b></td><td><b>0.5843</b></td><td><b>1.0000</b></td><td><b>0.2402</b></td><td>0.0308</td><td>0.0126</td><td>0.0171</td><td>0.0240</td><td>0.0159</td><td>0.0148</td><td><b>0.0791</b></td><td>0.0169</td><td>0.0160</td><td>0.0292</td></tr><tr><td>dog</td><td>0.0294</td><td>0.0294</td><td><b>0.1559</b></td><td><b>0.2402</b></td><td><b>1.0000</b></td><td><b>0.2584</b></td><td>0.0083</td><td>0.0140</td><td>0.0330</td><td>0.0120</td><td>0.0161</td><td>0.0429</td><td>0.0208</td><td>0.0225</td><td>0.0183</td></tr><tr><td>cat</td><td>0.0219</td><td>0.0225</td><td><b>0.1311</b></td><td>0.0308</td><td><b>0.2584</b></td><td><b>1.0000</b></td><td>0.0113</td><td>0.0133</td><td>0.0205</td><td>0.0091</td><td>0.0185</td><td>0.0048</td><td>0.0125</td><td>0.0326</td><td>0.0247</td></tr><tr><td>picked</td><td>0.0075</td><td>0.0083</td><td>0.0136</td><td>0.0126</td><td>0.0083</td><td>0.0113</td><td><b>1.0000</b></td><td><b>0.5957</b></td><td><b>0.7309</b></td><td><b>0.1868</b></td><td><b>0.1329</b></td><td><b>0.5162</b></td><td><b>0.1973</b></td><td><b>0.1881</b></td><td>0.0276</td></tr><tr><td>laid</td><td>0.0185</td><td>0.0083</td><td>0.0266</td><td>0.0171</td><td>0.0140</td><td>0.0133</td><td><b>0.5957</b></td><td><b>1.0000</b></td><td><b>0.4738</b></td><td><b>0.1664</b></td><td><b>0.1976</b></td><td><b>0.4679</b></td><td><b>0.2982</b></td><td><b>0.4073</b></td><td><b>0.1552</b></td></tr><tr><td>taken</td><td>0.0153</td><td>0.0133</td><td>0.0334</td><td>0.0240</td><td>0.0330</td><td>0.0205</td><td><b>0.7309</b></td><td><b>0.4738</b></td><td><b>1.0000</b></td><td><b>0.3768</b></td><td><b>0.1826</b></td><td><b>0.6082</b></td><td><b>0.3653</b></td><td><b>0.2984</b></td><td>0.0410</td></tr><tr><td>given</td><td>0.0104</td><td>0.0103</td><td>0.0182</td><td>0.0159</td><td>0.0120</td><td>0.0091</td><td><b>0.1868</b></td><td><b>0.1664</b></td><td><b>0.3768</b></td><td><b>1.0000</b></td><td><b>0.5914</b></td><td><b>0.2460</b></td><td><b>0.3743</b></td><td><b>0.2239</b></td><td>0.0232</td></tr><tr><td>missed</td><td>0.0099</td><td>0.0126</td><td>0.0245</td><td>0.0148</td><td>0.0161</td><td>0.0185</td><td><b>0.1329</b></td><td><b>0.1976</b></td><td><b>0.1826</b></td><td><b>0.5914</b></td><td><b>1.0000</b></td><td><b>0.1964</b></td><td><b>0.2891</b></td><td><b>0.1855</b></td><td>0.0197</td></tr><tr><td>signed</td><td>0.0180</td><td>0.0106</td><td>0.0667</td><td><b>0.0791</b></td><td>0.0429</td><td>0.0048</td><td><b>0.5162</b></td><td><b>0.4679</b></td><td><b>0.6082</b></td><td><b>0.2460</b></td><td><b>0.1964</b></td><td><b>1.0000</b></td><td><b>0.3386</b></td><td><b>0.2064</b></td><td>0.0412</td></tr><tr><td>nice</td><td>0.0122</td><td>0.0102</td><td>0.0199</td><td>0.0169</td><td>0.0208</td><td>0.0125</td><td><b>0.1973</b></td><td><b>0.2982</b></td><td><b>0.3653</b></td><td><b>0.3743</b></td><td><b>0.2891</b></td><td><b>0.3386</b></td><td><b>1.0000</b></td><td><b>0.2698</b></td><td>0.0531</td></tr><tr><td>good</td><td>0.0041</td><td>0.0196</td><td>0.0424</td><td>0.0160</td><td>0.0225</td><td>0.0326</td><td><b>0.1881</b></td><td><b>0.4073</b></td><td><b>0.2984</b></td><td><b>0.2239</b></td><td><b>0.1855</b></td><td><b>0.2064</b></td><td><b>0.2698</b></td><td><b>1.0000</b></td><td><b>0.3423</b></td></tr><tr><td>bad</td><td>0.0265</td><td>0.0166</td><td>0.0470</td><td>0.0292</td><td>0.0183</td><td>0.0247</td><td>0.0276</td><td><b>0.1552</b></td><td>0.0410</td><td>0.0232</td><td>0.0197</td><td>0.0412</td><td>0.0531</td><td><b>0.3423</b></td><td><b>1.0000</b></td></tr></table>"
       ],
       "metadata": {},
       "output_type": "pyout",
       "prompt_number": 106,
       "text": [
        "[[' ',\n",
        "  'wood',\n",
        "  'woods',\n",
        "  'man',\n",
        "  'woman',\n",
        "  'dog',\n",
        "  'cat',\n",
        "  'picked',\n",
        "  'laid',\n",
        "  'taken',\n",
        "  'given',\n",
        "  'missed',\n",
        "  'signed',\n",
        "  'nice',\n",
        "  'good',\n",
        "  'bad'],\n",
        " ['wood',\n",
        "  '<b>1.0000</b>',\n",
        "  '<b>0.6211</b>',\n",
        "  '<b>0.3473</b>',\n",
        "  '<b>0.2097</b>',\n",
        "  '0.0294',\n",
        "  '0.0219',\n",
        "  '0.0075',\n",
        "  '0.0185',\n",
        "  '0.0153',\n",
        "  '0.0104',\n",
        "  '0.0099',\n",
        "  '0.0180',\n",
        "  '0.0122',\n",
        "  '0.0041',\n",
        "  '0.0265'],\n",
        " ['woods',\n",
        "  '<b>0.6211</b>',\n",
        "  '<b>1.0000</b>',\n",
        "  '<b>0.6377</b>',\n",
        "  '<b>0.2538</b>',\n",
        "  '0.0294',\n",
        "  '0.0225',\n",
        "  '0.0083',\n",
        "  '0.0083',\n",
        "  '0.0133',\n",
        "  '0.0103',\n",
        "  '0.0126',\n",
        "  '0.0106',\n",
        "  '0.0102',\n",
        "  '0.0196',\n",
        "  '0.0166'],\n",
        " ['man',\n",
        "  '<b>0.3473</b>',\n",
        "  '<b>0.6377</b>',\n",
        "  '<b>1.0000</b>',\n",
        "  '<b>0.5843</b>',\n",
        "  '<b>0.1559</b>',\n",
        "  '<b>0.1311</b>',\n",
        "  '0.0136',\n",
        "  '0.0266',\n",
        "  '0.0334',\n",
        "  '0.0182',\n",
        "  '0.0245',\n",
        "  '0.0667',\n",
        "  '0.0199',\n",
        "  '0.0424',\n",
        "  '0.0470'],\n",
        " ['woman',\n",
        "  '<b>0.2097</b>',\n",
        "  '<b>0.2538</b>',\n",
        "  '<b>0.5843</b>',\n",
        "  '<b>1.0000</b>',\n",
        "  '<b>0.2402</b>',\n",
        "  '0.0308',\n",
        "  '0.0126',\n",
        "  '0.0171',\n",
        "  '0.0240',\n",
        "  '0.0159',\n",
        "  '0.0148',\n",
        "  '<b>0.0791</b>',\n",
        "  '0.0169',\n",
        "  '0.0160',\n",
        "  '0.0292'],\n",
        " ['dog',\n",
        "  '0.0294',\n",
        "  '0.0294',\n",
        "  '<b>0.1559</b>',\n",
        "  '<b>0.2402</b>',\n",
        "  '<b>1.0000</b>',\n",
        "  '<b>0.2584</b>',\n",
        "  '0.0083',\n",
        "  '0.0140',\n",
        "  '0.0330',\n",
        "  '0.0120',\n",
        "  '0.0161',\n",
        "  '0.0429',\n",
        "  '0.0208',\n",
        "  '0.0225',\n",
        "  '0.0183'],\n",
        " ['cat',\n",
        "  '0.0219',\n",
        "  '0.0225',\n",
        "  '<b>0.1311</b>',\n",
        "  '0.0308',\n",
        "  '<b>0.2584</b>',\n",
        "  '<b>1.0000</b>',\n",
        "  '0.0113',\n",
        "  '0.0133',\n",
        "  '0.0205',\n",
        "  '0.0091',\n",
        "  '0.0185',\n",
        "  '0.0048',\n",
        "  '0.0125',\n",
        "  '0.0326',\n",
        "  '0.0247'],\n",
        " ['picked',\n",
        "  '0.0075',\n",
        "  '0.0083',\n",
        "  '0.0136',\n",
        "  '0.0126',\n",
        "  '0.0083',\n",
        "  '0.0113',\n",
        "  '<b>1.0000</b>',\n",
        "  '<b>0.5957</b>',\n",
        "  '<b>0.7309</b>',\n",
        "  '<b>0.1868</b>',\n",
        "  '<b>0.1329</b>',\n",
        "  '<b>0.5162</b>',\n",
        "  '<b>0.1973</b>',\n",
        "  '<b>0.1881</b>',\n",
        "  '0.0276'],\n",
        " ['laid',\n",
        "  '0.0185',\n",
        "  '0.0083',\n",
        "  '0.0266',\n",
        "  '0.0171',\n",
        "  '0.0140',\n",
        "  '0.0133',\n",
        "  '<b>0.5957</b>',\n",
        "  '<b>1.0000</b>',\n",
        "  '<b>0.4738</b>',\n",
        "  '<b>0.1664</b>',\n",
        "  '<b>0.1976</b>',\n",
        "  '<b>0.4679</b>',\n",
        "  '<b>0.2982</b>',\n",
        "  '<b>0.4073</b>',\n",
        "  '<b>0.1552</b>'],\n",
        " ['taken',\n",
        "  '0.0153',\n",
        "  '0.0133',\n",
        "  '0.0334',\n",
        "  '0.0240',\n",
        "  '0.0330',\n",
        "  '0.0205',\n",
        "  '<b>0.7309</b>',\n",
        "  '<b>0.4738</b>',\n",
        "  '<b>1.0000</b>',\n",
        "  '<b>0.3768</b>',\n",
        "  '<b>0.1826</b>',\n",
        "  '<b>0.6082</b>',\n",
        "  '<b>0.3653</b>',\n",
        "  '<b>0.2984</b>',\n",
        "  '0.0410'],\n",
        " ['given',\n",
        "  '0.0104',\n",
        "  '0.0103',\n",
        "  '0.0182',\n",
        "  '0.0159',\n",
        "  '0.0120',\n",
        "  '0.0091',\n",
        "  '<b>0.1868</b>',\n",
        "  '<b>0.1664</b>',\n",
        "  '<b>0.3768</b>',\n",
        "  '<b>1.0000</b>',\n",
        "  '<b>0.5914</b>',\n",
        "  '<b>0.2460</b>',\n",
        "  '<b>0.3743</b>',\n",
        "  '<b>0.2239</b>',\n",
        "  '0.0232'],\n",
        " ['missed',\n",
        "  '0.0099',\n",
        "  '0.0126',\n",
        "  '0.0245',\n",
        "  '0.0148',\n",
        "  '0.0161',\n",
        "  '0.0185',\n",
        "  '<b>0.1329</b>',\n",
        "  '<b>0.1976</b>',\n",
        "  '<b>0.1826</b>',\n",
        "  '<b>0.5914</b>',\n",
        "  '<b>1.0000</b>',\n",
        "  '<b>0.1964</b>',\n",
        "  '<b>0.2891</b>',\n",
        "  '<b>0.1855</b>',\n",
        "  '0.0197'],\n",
        " ['signed',\n",
        "  '0.0180',\n",
        "  '0.0106',\n",
        "  '0.0667',\n",
        "  '<b>0.0791</b>',\n",
        "  '0.0429',\n",
        "  '0.0048',\n",
        "  '<b>0.5162</b>',\n",
        "  '<b>0.4679</b>',\n",
        "  '<b>0.6082</b>',\n",
        "  '<b>0.2460</b>',\n",
        "  '<b>0.1964</b>',\n",
        "  '<b>1.0000</b>',\n",
        "  '<b>0.3386</b>',\n",
        "  '<b>0.2064</b>',\n",
        "  '0.0412'],\n",
        " ['nice',\n",
        "  '0.0122',\n",
        "  '0.0102',\n",
        "  '0.0199',\n",
        "  '0.0169',\n",
        "  '0.0208',\n",
        "  '0.0125',\n",
        "  '<b>0.1973</b>',\n",
        "  '<b>0.2982</b>',\n",
        "  '<b>0.3653</b>',\n",
        "  '<b>0.3743</b>',\n",
        "  '<b>0.2891</b>',\n",
        "  '<b>0.3386</b>',\n",
        "  '<b>1.0000</b>',\n",
        "  '<b>0.2698</b>',\n",
        "  '0.0531'],\n",
        " ['good',\n",
        "  '0.0041',\n",
        "  '0.0196',\n",
        "  '0.0424',\n",
        "  '0.0160',\n",
        "  '0.0225',\n",
        "  '0.0326',\n",
        "  '<b>0.1881</b>',\n",
        "  '<b>0.4073</b>',\n",
        "  '<b>0.2984</b>',\n",
        "  '<b>0.2239</b>',\n",
        "  '<b>0.1855</b>',\n",
        "  '<b>0.2064</b>',\n",
        "  '<b>0.2698</b>',\n",
        "  '<b>1.0000</b>',\n",
        "  '<b>0.3423</b>'],\n",
        " ['bad',\n",
        "  '0.0265',\n",
        "  '0.0166',\n",
        "  '0.0470',\n",
        "  '0.0292',\n",
        "  '0.0183',\n",
        "  '0.0247',\n",
        "  '0.0276',\n",
        "  '<b>0.1552</b>',\n",
        "  '0.0410',\n",
        "  '0.0232',\n",
        "  '0.0197',\n",
        "  '0.0412',\n",
        "  '0.0531',\n",
        "  '<b>0.3423</b>',\n",
        "  '<b>1.0000</b>']]"
       ]
      }
     ],
     "prompt_number": 106
    }
   ],
   "metadata": {}
  }
 ]
}